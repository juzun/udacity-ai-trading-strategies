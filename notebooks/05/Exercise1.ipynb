{
 "cells": [
  {
   "cell_type": "markdown",
   "id": "871808c0-07e3-4260-bf07-d1159f52d2b9",
   "metadata": {},
   "source": [
    "# Exercise 1"
   ]
  },
  {
   "cell_type": "markdown",
   "id": "d65a1192-55fe-45bc-b2af-5bda0ed0afd7",
   "metadata": {},
   "source": [
    "## Question 1 ##\n",
    "Use scipy.stats.norm to generate 20 arrays, each containing 200 independent, identically distributed, normal random variables. Calculate and print the mean and the standard deviation of the samples in each of these arrays."
   ]
  },
  {
   "cell_type": "code",
   "execution_count": 8,
   "id": "d08860fe-2dd5-4049-8b8f-67b568fb04e6",
   "metadata": {},
   "outputs": [
    {
     "name": "stdout",
     "output_type": "stream",
     "text": [
      "sample mean:\n",
      "  0.12  0.07 -0.04 -0.04 -0.04 -0.02 -0.10  0.05  0.03  0.12 -0.08  0.00  0.04 -0.00  0.07  0.06  0.00 -0.05  0.10  0.08\n",
      "sample standard deviation:\n",
      "  0.94  1.04  1.06  0.97  1.01  1.01  1.02  0.96  0.89  1.03  0.91  1.10  0.99  0.99  1.06  1.08  0.98  0.97  0.96  0.91"
     ]
    }
   ],
   "source": [
    "import random\n",
    "\n",
    "import numpy as np\n",
    "from scipy.stats import norm\n",
    "\n",
    "np.random.seed(42)\n",
    "\n",
    "N = 200\n",
    "K = 20\n",
    "\n",
    "X = np.reshape(norm.rvs(size=N * K), (N, K))\n",
    "\n",
    "M = [np.mean(X[:, i]) for i in range(X.shape[1])]\n",
    "S = [np.std(X[:, i]) for i in range(X.shape[1])]\n",
    "print(\"sample mean:\")\n",
    "for m in M:\n",
    "    print(\"% 6.2f\" % m, end=\"\")\n",
    "print()\n",
    "print(\"sample standard deviation:\")\n",
    "for m in S:\n",
    "    print(\"% 6.2f\" % m, end=\"\")"
   ]
  },
  {
   "cell_type": "markdown",
   "id": "7f4681cd-0895-4fd2-b6f0-3e37e1dac44f",
   "metadata": {},
   "source": [
    "## Question 2 ##\n",
    "Perform the Student's t-test on each of these samples with the null hypothesis\n",
    "   \n",
    "    $H_0$: The sample comes from a distribution of 0 mean.\n",
    "\n",
    "\n",
    "Calculate the p-value of these tests. If we reject $H_0$ when the p-value is less than 5%, in how many cases will we reject $H_0$?"
   ]
  },
  {
   "cell_type": "code",
   "execution_count": 10,
   "id": "29060bec-7fe2-4bd7-9279-f8241f074bd1",
   "metadata": {},
   "outputs": [
    {
     "name": "stdout",
     "output_type": "stream",
     "text": [
      "p-values:\n",
      " 0.079 0.339 0.616 0.562 0.559 0.739 0.186 0.465 0.584 0.088 0.243 0.976 0.566 0.979 0.341 0.431 0.976 0.511 0.159 0.223"
     ]
    }
   ],
   "source": [
    "from scipy.stats import t as Students_t\n",
    "\n",
    "T = np.asarray([M[i] / S[i] * np.sqrt(N) for i in range(X.shape[1])])\n",
    "pval = [2 * Students_t.cdf(-abs(q), df=N - 1) for q in T]\n",
    "print(\"p-values:\")\n",
    "for x in pval:\n",
    "    print(\"% 6.3f\" % x, end=\"\")"
   ]
  },
  {
   "cell_type": "code",
   "execution_count": null,
   "id": "d580d75a-8027-4d1a-a4bb-2d5b140a2412",
   "metadata": {},
   "outputs": [],
   "source": []
  }
 ],
 "metadata": {
  "kernelspec": {
   "display_name": "udacity-ai-trading-strategies-kfncRSwL-py3.10",
   "language": "python",
   "name": "python3"
  },
  "language_info": {
   "codemirror_mode": {
    "name": "ipython",
    "version": 3
   },
   "file_extension": ".py",
   "mimetype": "text/x-python",
   "name": "python",
   "nbconvert_exporter": "python",
   "pygments_lexer": "ipython3",
   "version": "3.10.12"
  }
 },
 "nbformat": 4,
 "nbformat_minor": 5
}
